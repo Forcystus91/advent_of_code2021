{
 "cells": [
  {
   "cell_type": "markdown",
   "metadata": {},
   "source": [
    "--- Day 2: Dive! ---\n",
    "Now, you need to figure out how to pilot this thing.\n",
    "\n",
    "It seems like the submarine can take a series of commands like forward 1, down 2, or up 3:\n",
    "\n",
    "forward X increases the horizontal position by X units.\n",
    "\n",
    "down X increases the depth by X units.\n",
    "\n",
    "up X decreases the depth by X units.\n",
    "\n",
    "Note that since you're on a submarine, down and up affect your depth, and so they have the opposite result of what you might expect.\n",
    "\n",
    "The submarine seems to already have a planned course (your puzzle input). You should probably figure out where it's going. For example:\n",
    "\n",
    "forward 5\n",
    "\n",
    "down 5\n",
    "\n",
    "forward 8\n",
    "\n",
    "up 3\n",
    "\n",
    "down 8\n",
    "\n",
    "forward 2\n",
    "\n",
    "Your horizontal position and depth both start at 0. The steps above would then modify them as follows:\n",
    "\n",
    "forward 5 adds 5 to your horizontal position, a total of 5.\n",
    "\n",
    "down 5 adds 5 to your depth, resulting in a value of 5.\n",
    "\n",
    "forward 8 adds 8 to your horizontal position, a total of 13.\n",
    "\n",
    "up 3 decreases your depth by 3, resulting in a value of 2.\n",
    "\n",
    "down 8 adds 8 to your depth, resulting in a value of 10.\n",
    "\n",
    "forward 2 adds 2 to your horizontal position, a total of 15.\n",
    "\n",
    "After following these instructions, you would have a horizontal position of 15 and a depth of 10. (Multiplying these together produces 150.)\n",
    "\n",
    "Calculate the horizontal position and depth you would have after following the planned course. What do you get if you multiply your final horizontal position by your final depth?"
   ]
  },
  {
   "cell_type": "code",
   "execution_count": 1,
   "metadata": {},
   "outputs": [
    {
     "name": "stdout",
     "output_type": "stream",
     "text": [
      "2147104\n"
     ]
    }
   ],
   "source": [
    "def dive():\n",
    "    with open(r'C:\\Users\\Emilio\\Documents\\GitHub\\advent_of_code2021\\day2\\day2_puzzle_input.txt') as fp:\n",
    "        d = {'forward':0,'down':0,'up':0}\n",
    "        string = \"\"\n",
    "        line = fp.readline()\n",
    "\n",
    "        while line:\n",
    "            for i in range(len(line)):\n",
    "                if ord(line[i]) != 32:\n",
    "                    string = string + line[i]\n",
    "                else:\n",
    "                    d[string] += int(line[i+1])\n",
    "                    break\n",
    "            string = \"\"\n",
    "            line = fp.readline()\n",
    "\n",
    "    depth = d['down'] - d['up']\n",
    "    horizontal_position = d['forward']\n",
    "    return depth*horizontal_position\n",
    "\n",
    "print(dive())"
   ]
  },
  {
   "cell_type": "markdown",
   "metadata": {},
   "source": [
    "--- Part Two ---\n",
    "Based on your calculations, the planned course doesn't seem to make any sense. You find the submarine manual and discover that the process is actually slightly more complicated.\n",
    "\n",
    "In addition to horizontal position and depth, you'll also need to track a third value, aim, which also starts at 0. The commands also mean something entirely different than you first thought:\n",
    "\n",
    "down X increases your aim by X units.\n",
    "\n",
    "up X decreases your aim by X units.\n",
    "\n",
    "forward X does two things:\n",
    "\n",
    "It increases your horizontal position by X units.\n",
    "\n",
    "It increases your depth by your aim multiplied by X.\n",
    "\n",
    "Again note that since you're on a submarine, down and up do the opposite of what you might expect: \"down\" means aiming in the positive direction.\n",
    "\n",
    "Now, the above example does something different:\n",
    "\n",
    "forward 5 adds 5 to your horizontal position, a total of 5. Because your aim is 0, your depth does not change.\n",
    "\n",
    "down 5 adds 5 to your aim, resulting in a value of 5.\n",
    "\n",
    "forward 8 adds 8 to your horizontal position, a total of 13. Because your aim is 5, your depth increases by 8*5=40.\n",
    "\n",
    "up 3 decreases your aim by 3, resulting in a value of 2.\n",
    "\n",
    "down 8 adds 8 to your aim, resulting in a value of 10.\n",
    "\n",
    "forward 2 adds 2 to your horizontal position, a total of 15. Because your aim is 10, your depth increases by 2*10=20 to a total of 60.\n",
    "\n",
    "After following these new instructions, you would have a horizontal position of 15 and a depth of 60. (Multiplying these produces 900.)\n",
    "\n",
    "Using this new interpretation of the commands, calculate the horizontal position and depth you would have after following the planned course. What do you get if you multiply your final horizontal position by your final depth?                  "
   ]
  },
  {
   "cell_type": "code",
   "execution_count": 2,
   "metadata": {},
   "outputs": [
    {
     "name": "stdout",
     "output_type": "stream",
     "text": [
      "2044620088\n"
     ]
    }
   ],
   "source": [
    "def dive_with_aim():\n",
    "    with open(r'C:\\Users\\Emilio\\Documents\\GitHub\\advent_of_code2021\\day2\\day2_puzzle_input.txt') as fp:\n",
    "        line = fp.readline()\n",
    "        string = \"\" # empty string to store submarine commands\n",
    "        horizontal_position = 0\n",
    "        depth = 0\n",
    "        aim = 0\n",
    "        while line:\n",
    "            for i in range(len(line)):\n",
    "                if ord(line[i]) != 32:  # If the character is not equal to \" \", stores the character in the string variable \n",
    "                    string = string + line[i]\n",
    "                else:   # Once the command word is complete, determines the values for each variable\n",
    "                    value = int(line[i+1])\n",
    "                    if string == 'forward':\n",
    "                        horizontal_position = horizontal_position + value\n",
    "                        if aim > 0:\n",
    "                            depth = depth + (value * aim)\n",
    "                    elif string == 'up':\n",
    "                        aim = aim - int(line[i+1])\n",
    "                        if aim < 0:\n",
    "                            aim = 0\n",
    "                    else:\n",
    "                        aim = aim + int(line[i+1])\n",
    "                    string = \"\"\n",
    "                    break\n",
    "            line = fp.readline()\n",
    "    return horizontal_position*depth\n",
    "\n",
    "def main():\n",
    "    print(dive_with_aim())\n",
    "\n",
    "main()"
   ]
  }
 ],
 "metadata": {
  "interpreter": {
   "hash": "e171acd309c06983148c9856e741c79a7072f11ec9d548c93ae4f1382cc847af"
  },
  "kernelspec": {
   "display_name": "Python 3.9.7 64-bit ('strive': conda)",
   "language": "python",
   "name": "python3"
  },
  "language_info": {
   "codemirror_mode": {
    "name": "ipython",
    "version": 3
   },
   "file_extension": ".py",
   "mimetype": "text/x-python",
   "name": "python",
   "nbconvert_exporter": "python",
   "pygments_lexer": "ipython3",
   "version": "3.9.7"
  },
  "orig_nbformat": 4
 },
 "nbformat": 4,
 "nbformat_minor": 2
}
